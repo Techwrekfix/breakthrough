{
  "cells": [
    {
      "cell_type": "code",
      "execution_count": null,
      "metadata": {},
      "outputs": [],
      "source": [
        "!wget \thttp://blpd13.ssl.berkeley.edu/dl/GBT_58402_66623_NGC5238_mid.h5\n",
        "!wget \thttp://blpd13.ssl.berkeley.edu/dl/GBT_58402_66967_HIP66130_mid.h5\n",
        "!wget \thttp://blpd13.ssl.berkeley.edu/dl/GBT_58402_67632_HIP65057_mid.h5\n",
        "!wget \thttp://blpd13.ssl.berkeley.edu/dl/GBT_58402_67960_NGC5204_mid.h5\n",
        "!wget \thttp://blpd13.ssl.berkeley.edu/dl/GBT_58402_73341_LV_J1342+484_mid.h5\n",
        "!wget \thttp://blpd13.ssl.berkeley.edu/dl/GBT_58404_29759_UGC05288_mid.h5\n",
        "!wget   http://blpd7.ssl.berkeley.edu/dl2/GBT_57635_43626_HIP14172_mid.h5\n",
        "!wget \thttp://blpd7.ssl.berkeley.edu/dl2/GBT_57635_38417_HIP14445_mid.h5\n",
        "!wget \thttp://blpd7.ssl.berkeley.edu/dl2/GBT_57635_36680_HIP15598_mid.h5\n",
        "!wget   http://blpd7.ssl.berkeley.edu/dl2/GBT_57635_39116_HIP14729_mid.h5\n",
        "!wget   http://blpd7.ssl.berkeley.edu/dl2/GBT_57626_79639_HIP67301_mid.h5\n",
        "!wget   http://blpd7.ssl.berkeley.edu/dl2/GBT_57626_70117_HIP55241_mid.h5\n",
        "!wget \thttp://blpd7.ssl.berkeley.edu/dl2/GBT_57626_66564_HIP56035_mid.h5\n",
        "\n",
        "!pip install blimpy \n",
        "!pip install setigen "
      ]
    },
    {
      "cell_type": "code",
      "execution_count": null,
      "metadata": {},
      "outputs": [],
      "source": [
        "!git init \n",
        "!git remote add origin https://github.com/PetchMa/DeepSeti.git\n",
        "!git pull origin master"
      ]
    },
    {
      "cell_type": "code",
      "metadata": {
        "id": "XFtVNHmfbBM6",
        "colab_type": "code",
        "outputId": "fae0c97b-c8ae-4b73-8345-e6f73b566074",
        "colab": {
          "base_uri": "https://localhost:8080/",
          "height": 153
        }
      },
      "source": [
        "from DeepSeti import DeepSeti\n",
        "\n",
        "direct = ['/content/GBT_58402_66623_NGC5238_mid.h5',\n",
        "          '/content/GBT_58402_66967_HIP66130_mid.h5',\n",
        "          '/content/GBT_58402_67632_HIP65057_mid.h5',\n",
        "          '/content/GBT_58402_67960_NGC5204_mid.h5',\n",
        "          '/content/GBT_58402_73341_LV_J1342+484_mid.h5',\n",
        "          '/content/GBT_58404_29759_UGC05288_mid.h5',\n",
        "          '/content/GBT_57635_43626_HIP14172_mid.h5',\n",
        "          '/content/GBT_57635_39116_HIP14729_mid.h5',\n",
        "          ]\n",
        "\n",
        "DeepSeti = DeepSeti()\n",
        "DeepSeti.unsupervised_data(direct)\n",
        "DeepSeti.supervised_data(direct)\n",
        "DeepSeti.encoder_injection_model_defualt_create(CuDNNLSTM=False)\n",
        "DeepSeti.train_custom_data(epoch=150, batch=20000)"
      ],
      "execution_count": 0,
      "outputs": [
        {
          "output_type": "stream",
          "text": [
            "single Data load Execution: 7.63322639465332 Sec\n",
            "single Data load Execution: 7.560568332672119 Sec\n",
            "single Data load Execution: 7.28388786315918 Sec\n",
            "single Data load Execution: 7.166940450668335 Sec\n",
            "single Data load Execution: 7.244906902313232 Sec\n",
            "single Data load Execution: 7.209471702575684 Sec\n",
            "single Data load Execution: 7.924416542053223 Sec\n",
            "single Data load Execution: 8.339748620986938 Sec\n"
          ],
          "name": "stdout"
        }
      ]
    }
  ],
  "metadata": {
    "colab": {
      "name": "DeepSeti_Custom_Train",
      "provenance": [],
      "collapsed_sections": [],
      "machine_shape": "hm"
    },
    "kernelspec": {
      "name": "python3",
      "display_name": "Python 3"
    },
    "accelerator": "GPU"
  },
  "nbformat": 4,
  "nbformat_minor": 0
}